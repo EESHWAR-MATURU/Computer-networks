{
 "cells": [
  {
   "attachments": {},
   "cell_type": "markdown",
   "metadata": {},
   "source": [
    "Write a program to create a server using stream sockets. Write a simple \n",
    "client program to connect to the server. Send a simple text message “Hello” \n",
    "from the client to the server and the server to the client and close the \n",
    "connection. (TCP Echo server). "
   ]
  },
  {
   "cell_type": "code",
   "execution_count": 2,
   "metadata": {},
   "outputs": [
    {
     "name": "stdout",
     "output_type": "stream",
     "text": [
      "Received from server: Networking system\n"
     ]
    }
   ],
   "source": [
    "import socket\n",
    "\n",
    "HOST = '127.0.0.1'  \n",
    "PORT = 4545      \n",
    "cliSock = socket.socket(socket.AF_INET, socket.SOCK_STREAM)\n",
    "cliSock.connect((HOST, PORT))\n",
    "message = \"Networking system\"\n",
    "cliSock.sendall(message.encode())\n",
    "data = cliSock.recv(1024)\n",
    "print(f\"Received from server: {data.decode()}\")\n",
    "cliSock.close()\n"
   ]
  },
  {
   "attachments": {},
   "cell_type": "markdown",
   "metadata": {},
   "source": [
    "Write a program to create a Server using Stream sockets. Write a\n",
    "client program to connect to the server. Send one string from client to\n",
    "server. Server will send the length of the same string in response to\n",
    "the client. Display the received length on client’s console. "
   ]
  },
  {
   "cell_type": "code",
   "execution_count": 14,
   "metadata": {},
   "outputs": [
    {
     "name": "stdout",
     "output_type": "stream",
     "text": [
      "Length of the string received from server: 11\n"
     ]
    }
   ],
   "source": [
    "import socket\n",
    "\n",
    "HOST = '127.0.0.1' \n",
    "PORT = 6712         \n",
    "client_socket = socket.socket(socket.AF_INET, socket.SOCK_STREAM)\n",
    "client_socket.connect((HOST, PORT))\n",
    "message = \"HELLO GITAM\"\n",
    "client_socket.sendall(message.encode())\n",
    "data = client_socket.recv(1024)\n",
    "print(f\"Length of the string received from server: {data.decode()}\")\n",
    "client_socket.close()\n"
   ]
  },
  {
   "attachments": {},
   "cell_type": "markdown",
   "metadata": {},
   "source": [
    " Write a program to create a chat server using stream sockets. Write a simple \n",
    "client program to connect to the server. Send multiple text messages from the \n",
    "client to the server and vice versa. When either party types “Bye”, close the \n",
    "connection."
   ]
  },
  {
   "cell_type": "code",
   "execution_count": 1,
   "metadata": {},
   "outputs": [
    {
     "name": "stdout",
     "output_type": "stream",
     "text": [
      "Welcome to the chat room!\n",
      "Server: adf\n",
      "Server: asdf\n",
      "Server: asdf\n",
      "Server: adsf\n",
      "Connection closed.\n"
     ]
    }
   ],
   "source": [
    "import socket\n",
    "\n",
    "HOST = '127.0.0.1' \n",
    "PORT = 8193        \n",
    "cliSock = socket.socket(socket.AF_INET, socket.SOCK_STREAM)\n",
    "cliSock.connect((HOST, PORT))\n",
    "\n",
    "welcome_message = cliSock.recv(1024)\n",
    "print(welcome_message.decode())\n",
    "\n",
    "while True:\n",
    "    message = input(\"You: \")\n",
    "    cliSock.sendall(message.encode())\n",
    "\n",
    "    if message.lower() == \"bye\":\n",
    "        print(\"Connection closed.\")\n",
    "        cliSock.close()\n",
    "        break\n",
    "\n",
    "    data = cliSock.recv(1024)\n",
    "\n",
    "    print(f\"Server: {data.decode()}\")\n"
   ]
  },
  {
   "attachments": {},
   "cell_type": "markdown",
   "metadata": {},
   "source": [
    "Write a program to create a Server using Stream sockets. Write a \n",
    "client program to connect to the server. Send one string from client to \n",
    "server. Server will send the same string in reverse in response to the \n",
    "client. Display the received string on client’s console."
   ]
  },
  {
   "cell_type": "code",
   "execution_count": 5,
   "metadata": {},
   "outputs": [
    {
     "name": "stdout",
     "output_type": "stream",
     "text": [
      "Received from server: noitacinummoc ataD\n"
     ]
    }
   ],
   "source": [
    "import socket\n",
    "\n",
    "HOST = '127.0.0.1'  \n",
    "PORT = 9112        \n",
    "\n",
    "cliSock = socket.socket(socket.AF_INET, socket.SOCK_STREAM)\n",
    "cliSock.connect((HOST, PORT))\n",
    "message = \"Data communication\"\n",
    "cliSock.sendall(message.encode())\n",
    "data = cliSock.recv(1024)\n",
    "print(f\"Received fro4m server: {data.decode()}\")\n",
    "cliSock.close()\n"
   ]
  },
  {
   "attachments": {},
   "cell_type": "markdown",
   "metadata": {},
   "source": [
    "Write a program to create a server using Datagram sockets. Write \n",
    "a client program to send a simple text message “Hello” from the client \n",
    "to the server and the server to the client. (UDP Echo server). \n"
   ]
  },
  {
   "cell_type": "code",
   "execution_count": 8,
   "metadata": {},
   "outputs": [
    {
     "name": "stdout",
     "output_type": "stream",
     "text": [
      "Received from server: Hello\n"
     ]
    }
   ],
   "source": [
    "import socket\n",
    "\n",
    "HOST = '127.0.0.1' \n",
    "PORT = 7231\n",
    "cliSock = socket.socket(socket.AF_INET, socket.SOCK_DGRAM)\n",
    "message = \"Hello\"\n",
    "cliSock.sendto(message.encode(), (HOST, PORT))\n",
    "data, addr = cliSock.recvfrom(1024)\n",
    "print(f\"Received from server: {data.decode()}\")\n",
    "\n",
    "cliSock.close()\n"
   ]
  },
  {
   "attachments": {},
   "cell_type": "markdown",
   "metadata": {},
   "source": [
    "Write a UDP client-server program for upper case conversion of \n",
    "the text sent by the client program. \n"
   ]
  },
  {
   "cell_type": "code",
   "execution_count": 1,
   "metadata": {},
   "outputs": [
    {
     "name": "stdout",
     "output_type": "stream",
     "text": [
      "Received from server: CLIENT SERVER\n"
     ]
    }
   ],
   "source": [
    "import socket\n",
    "\n",
    "HOST = '127.0.0.1' \n",
    "PORT = 2398     \n",
    "cliSock = socket.socket(socket.AF_INET, socket.SOCK_DGRAM)\n",
    "\n",
    "message = \"client server\"\n",
    "cliSock.sendto(message.encode(), (HOST, PORT))\n",
    "data, addr = cliSock.recvfrom(1024)\n",
    "print(f\"Received from server: {data.decode()}\")\n",
    "cliSock.close()\n"
   ]
  },
  {
   "attachments": {},
   "cell_type": "markdown",
   "metadata": {},
   "source": [
    "Write a program to create a Server using Datagram sockets. \n",
    "Write a client program to connect to the server. Send one string from \n",
    "client to server. Server will send the length of the same string in \n",
    "response to the client. Display the received length on client’s console. "
   ]
  },
  {
   "cell_type": "code",
   "execution_count": 4,
   "metadata": {},
   "outputs": [
    {
     "name": "stdout",
     "output_type": "stream",
     "text": [
      "Received from server: 13\n"
     ]
    }
   ],
   "source": [
    "import socket\n",
    "\n",
    "HOST = '127.0.0.1'\n",
    "PORT = 8345   \n",
    "cliSock = socket.socket(socket.AF_INET, socket.SOCK_DGRAM)\n",
    "message = \"Hello Gitam\"\n",
    "cliSock.sendto(message.encode(), (HOST, PORT))\n",
    "data, addr = cliSock.recvfrom(1024)\n",
    "print(f\"Received from server: {data.decode()}\")\n",
    "cliSock.close()\n"
   ]
  },
  {
   "attachments": {},
   "cell_type": "markdown",
   "metadata": {},
   "source": [
    " Write a program to create a Server using Datagram sockets. \n",
    "Write a client program to connect to the server. Send one string from \n",
    "client to server. Server will send the same string in reverse in \n",
    "response to the client. Display the received string on client’s console"
   ]
  },
  {
   "cell_type": "code",
   "execution_count": 2,
   "metadata": {},
   "outputs": [
    {
     "name": "stdout",
     "output_type": "stream",
     "text": [
      "Received from server: metsyS retupmoC\n"
     ]
    }
   ],
   "source": [
    "import socket\n",
    "\n",
    "HOST = '127.0.0.1'\n",
    "PORT = 6712   \n",
    "cliSock = socket.socket(socket.AF_INET, socket.SOCK_DGRAM)\n",
    "message = \"Computer System\"\n",
    "cliSock.sendto(message.encode(), (HOST, PORT))\n",
    "data, addr = cliSock.recvfrom(1024)\n",
    "print(f\"Received from server: {data.decode()}\")\n",
    "cliSock.close()\n"
   ]
  },
  {
   "cell_type": "code",
   "execution_count": 4,
   "metadata": {},
   "outputs": [
    {
     "name": "stdout",
     "output_type": "stream",
     "text": [
      "how are you\n",
      "pranav \n",
      "\n"
     ]
    }
   ],
   "source": [
    "import socket\n",
    "HOST = 'localhost'\n",
    "PORT = 12345\n",
    "\n",
    "client_socket = socket.socket(socket.AF_INET, socket.SOCK_STREAM)\n",
    "\n",
    "client_socket.connect((HOST, PORT))\n",
    "\n",
    "file_name = 'sample.txt'\n",
    "client_socket.sendall(file_name.encode())\n",
    "\n",
    "file_content = client_socket.recv(1024).decode()\n",
    "\n",
    "print(file_content)\n",
    "\n",
    "client_socket.close()\n"
   ]
  },
  {
   "cell_type": "code",
   "execution_count": 2,
   "metadata": {},
   "outputs": [
    {
     "name": "stdout",
     "output_type": "stream",
     "text": [
      "data : hello\n"
     ]
    }
   ],
   "source": [
    "import socket\n",
    "clis=socket.socket(socket.AF_INET,socket.SOCK_STREAM)\n",
    "clis.connect(('127.0.0.1',7233))\n",
    "msg=\"hello\"\n",
    "clis.sendall(msg.encode())\n",
    "data=clis.recv(1024)\n",
    "print(\"data :\",data.decode())\n",
    "clis.close()"
   ]
  },
  {
   "cell_type": "code",
   "execution_count": null,
   "metadata": {},
   "outputs": [],
   "source": []
  }
 ],
 "metadata": {
  "kernelspec": {
   "display_name": "Python 3",
   "language": "python",
   "name": "python3"
  },
  "language_info": {
   "codemirror_mode": {
    "name": "ipython",
    "version": 3
   },
   "file_extension": ".py",
   "mimetype": "text/x-python",
   "name": "python",
   "nbconvert_exporter": "python",
   "pygments_lexer": "ipython3",
   "version": "3.10.5"
  },
  "orig_nbformat": 4,
  "vscode": {
   "interpreter": {
    "hash": "77e3073e874291b649ea1ae468f40e14661899c710b9f0367d464a06647e4f0e"
   }
  }
 },
 "nbformat": 4,
 "nbformat_minor": 2
}
