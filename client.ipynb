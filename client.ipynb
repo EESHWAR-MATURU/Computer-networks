{
 "cells": [
  {
   "cell_type": "code",
   "execution_count": 2,
   "metadata": {},
   "outputs": [
    {
     "name": "stdout",
     "output_type": "stream",
     "text": [
      "eeshwar\n",
      "How are you\n",
      "gitam\n",
      "deemed\n",
      "7964645\n"
     ]
    }
   ],
   "source": [
    "import socket\n",
    "\n",
    "HOST = 'localhost' \n",
    "PORT = 8888        \n",
    "\n",
    "filename = input('Enter filename: ')\n",
    "with socket.socket(socket.AF_INET, socket.SOCK_STREAM) as s:\n",
    "    s.connect((HOST, PORT))\n",
    "    s.sendall(filename.encode())\n",
    "    data = s.recv(1024)\n",
    "    print(data.decode())\n"
   ]
  },
  {
   "cell_type": "code",
   "execution_count": 3,
   "metadata": {},
   "outputs": [
    {
     "name": "stdout",
     "output_type": "stream",
     "text": [
      "Size of file example.txt: 49 bytes\n"
     ]
    }
   ],
   "source": [
    "import socket\n",
    "\n",
    "HOST = 'localhost'  \n",
    "PORT = 8888        \n",
    "\n",
    "filename = input('Enter filename: ')\n",
    "with socket.socket(socket.AF_INET, socket.SOCK_STREAM) as s:\n",
    "    s.connect((HOST, PORT))\n",
    "    s.sendall(filename.encode())\n",
    "    data = s.recv(1024)\n",
    "    print(f'Size of file {filename}: {data.decode()} bytes')\n"
   ]
  },
  {
   "cell_type": "code",
   "execution_count": 1,
   "metadata": {},
   "outputs": [],
   "source": [
    "import socket as sk\n",
    "\n",
    "client = sk.socket(sk.AF_INET, sk.SOCK_DGRAM)\n",
    "\n",
    "client.sendto(\"message\".encode(), ('localhost', 5305))\n",
    "\n",
    "file = open(\"recv.jpg\", \"wb\")\n",
    "while True:\n",
    "    try:\n",
    "        data, address = client.recvfrom(5000)\n",
    "    except:\n",
    "        break\n",
    "    file.write(data)\n",
    "client.close()\n"
   ]
  },
  {
   "cell_type": "code",
   "execution_count": 5,
   "metadata": {},
   "outputs": [
    {
     "name": "stdout",
     "output_type": "stream",
     "text": [
      "File received and saved as file.txt\n"
     ]
    }
   ],
   "source": [
    "import socket\n",
    "\n",
    "host = 'localhost'\n",
    "port = 5000\n",
    "\n",
    "client_socket = socket.socket(socket.AF_INET, socket.SOCK_STREAM)\n",
    "\n",
    "client_socket.connect((host, port))\n",
    "\n",
    "while True:\n",
    "    filename = input('Enter filename to request (or q to quit): ')\n",
    "\n",
    "    if filename.lower() == 'q':\n",
    "        break\n",
    "\n",
    "    client_socket.sendall(filename.encode())\n",
    "\n",
    "    data = client_socket.recv(1024)\n",
    "\n",
    "    if data:\n",
    "        with open(\"16 recv1.txt\", 'wb') as file:\n",
    "            file.write(data)\n",
    "        print('File received and saved as {}'.format(filename))\n",
    "    else:\n",
    "        print('Error: {}'.format(data.decode()))\n",
    "\n",
    "client_socket.close()\n"
   ]
  },
  {
   "cell_type": "code",
   "execution_count": null,
   "metadata": {},
   "outputs": [],
   "source": [
    "import socket\n",
    "\n",
    "host = 'localhost'\n",
    "port = 5500\n",
    "\n",
    "client_socket = socket.socket(socket.AF_INET, socket.SOCK_STREAM)\n",
    "\n",
    "client_socket.connect((host, port))\n",
    "\n",
    "while True:\n",
    "    filename = input('Enter filename to request (or q to quit): ')\n",
    "\n",
    "    if filename.lower() == 'q':\n",
    "        break\n",
    "\n",
    "    client_socket.sendall(filename.encode())\n",
    "\n",
    "    data = client_socket.recv(1024)\n",
    "\n",
    "    if data:\n",
    "        file = open(\"rfile1.txt\", \"w\")\n",
    "        file.write(data.decode())\n",
    "    else:\n",
    "        print('Error: {}'.format(data.decode()))\n",
    "\n",
    "client_socket.close()\n"
   ]
  },
  {
   "cell_type": "code",
   "execution_count": null,
   "metadata": {},
   "outputs": [],
   "source": [
    "import socket as sk\n",
    "\n",
    "client = sk.socket(sk.AF_INET, sk.SOCK_DGRAM)\n",
    "\n",
    "client.sendto(\"binary.bin\".encode(), ('localhost', 5500))\n",
    "\n",
    "data, address = client.recvfrom(1024)\n",
    "\n",
    "file = open(\"rfile1.bin\", \"wb\")\n",
    "file.write(data)\n",
    "client.close()\n"
   ]
  }
 ],
 "metadata": {
  "kernelspec": {
   "display_name": "Python 3",
   "language": "python",
   "name": "python3"
  },
  "language_info": {
   "codemirror_mode": {
    "name": "ipython",
    "version": 3
   },
   "file_extension": ".py",
   "mimetype": "text/x-python",
   "name": "python",
   "nbconvert_exporter": "python",
   "pygments_lexer": "ipython3",
   "version": "3.11.1"
  },
  "orig_nbformat": 4,
  "vscode": {
   "interpreter": {
    "hash": "991d22cbb812259c435e888a485fda6e0050f8a01db60648101c5f9dc2bc009a"
   }
  }
 },
 "nbformat": 4,
 "nbformat_minor": 2
}
