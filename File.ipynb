{
 "cells": [
  {
   "attachments": {},
   "cell_type": "markdown",
   "metadata": {},
   "source": [
    "13) Write a program to create a Server using Stream sockets. Write a \n",
    "client program to connect to the server. The client should request for a \n",
    "text file and the server should return the file before terminating the \n",
    "connection."
   ]
  },
  {
   "cell_type": "code",
   "execution_count": 2,
   "metadata": {},
   "outputs": [
    {
     "name": "stdout",
     "output_type": "stream",
     "text": [
      "Server listening on port 8888...\n",
      "Connected by ('127.0.0.1', 51715)\n",
      "Connection closed\n"
     ]
    }
   ],
   "source": [
    "import socket\n",
    "HOST = ''  \n",
    "PORT = 8888 \n",
    "\n",
    "with socket.socket(socket.AF_INET, socket.SOCK_STREAM) as s:\n",
    "    s.bind((HOST, PORT))\n",
    "    s.listen(1)\n",
    "    print(f'Server listening on port {PORT}...')\n",
    "    conn, addr = s.accept()\n",
    "    print(f'Connected by {addr}')\n",
    "    with conn:\n",
    "        while True:\n",
    "            data = conn.recv(1024)\n",
    "            if not data:\n",
    "                break\n",
    "            filename = data.decode()\n",
    "            try:\n",
    "                with open(filename, 'r') as f:\n",
    "                    file_contents = f.read()\n",
    "                    conn.sendall(file_contents.encode())\n",
    "            except FileNotFoundError:\n",
    "                conn.sendall(b'File not found')\n",
    "    print('Connection closed')\n"
   ]
  },
  {
   "attachments": {},
   "cell_type": "markdown",
   "metadata": {},
   "source": [
    "14) Write a program to create a Server using Stream sockets. Write a \n",
    "client program to connect to the server. The client should request for a \n",
    "text file and the server should return the size of the file before \n",
    "terminating the connection. "
   ]
  },
  {
   "cell_type": "code",
   "execution_count": 11,
   "metadata": {},
   "outputs": [
    {
     "name": "stdout",
     "output_type": "stream",
     "text": [
      "Server listening on port 8888...\n",
      "Connected by ('127.0.0.1', 65342)\n",
      "Connection closed\n"
     ]
    }
   ],
   "source": [
    "import socket\n",
    "import os\n",
    "\n",
    "HOST = '' \n",
    "PORT = 8888 \n",
    "\n",
    "with socket.socket(socket.AF_INET, socket.SOCK_STREAM) as s:\n",
    "    s.bind((HOST, PORT))\n",
    "    s.listen(1)\n",
    "    print(f'Server listening on port {PORT}...')\n",
    "    conn, addr = s.accept()\n",
    "    print(f'Connected by {addr}')\n",
    "    with conn:\n",
    "        while True:\n",
    "            data = conn.recv(1024)\n",
    "            if not data:\n",
    "                break\n",
    "            filename = data.decode()\n",
    "            try:\n",
    "                size = os.path.getsize(filename)\n",
    "                conn.sendall(str(size).encode())\n",
    "            except FileNotFoundError:\n",
    "                conn.sendall(b'File not found')\n",
    "    print('Connection closed')\n"
   ]
  },
  {
   "attachments": {},
   "cell_type": "markdown",
   "metadata": {},
   "source": [
    "15) Write a program to create a Server using Datagram sockets. \n",
    "Write a client program that requests the server for a binary file. The \n",
    "server should send the requested file to the client. "
   ]
  },
  {
   "cell_type": "code",
   "execution_count": 3,
   "metadata": {},
   "outputs": [
    {
     "name": "stdout",
     "output_type": "stream",
     "text": [
      "UPD server up and listening\n"
     ]
    }
   ],
   "source": [
    "import socket as sk\n",
    "\n",
    "server = sk.socket(sk.AF_INET, sk.SOCK_DGRAM)\n",
    "s_address = ('localhost', 5305)\n",
    "server.bind(s_address)\n",
    "print(\"UPD server up and listening\")\n",
    "\n",
    "message, address = server.recvfrom(1024)\n",
    "\n",
    "\n",
    "file = open(\"cn15.jpg\", \"rb\")\n",
    "data = file.readlines()\n",
    "\n",
    "for i in data:\n",
    "    server.sendto(i, address)\n",
    "server.close()\n"
   ]
  },
  {
   "attachments": {},
   "cell_type": "markdown",
   "metadata": {},
   "source": [
    "16) Write a program to create a Server using Stream sockets. Write a \n",
    "client program to connect to the server. Run multiple clients that \n",
    "request the server for binary files. The server should service each \n",
    "client one after the other (Iterative) before terminating the \n",
    "connection"
   ]
  },
  {
   "cell_type": "code",
   "execution_count": 1,
   "metadata": {},
   "outputs": [
    {
     "name": "stdout",
     "output_type": "stream",
     "text": [
      "Server listening on localhost:5000\n",
      "Connection from 127.0.0.1:49197\n",
      "Received filename: file.txt\n",
      "Sent 44 bytes to 127.0.0.1:49197\n",
      "Connection from 127.0.0.1:49204\n",
      "Received filename: example.txt\n",
      "Sent 49 bytes to 127.0.0.1:49204\n",
      "Connection from 127.0.0.1:49207\n",
      "Received filename: ees.txt\n",
      "Sent 17 bytes to 127.0.0.1:49207\n"
     ]
    }
   ],
   "source": [
    "import socket\n",
    "\n",
    "host = 'localhost'\n",
    "port = 5000\n",
    "\n",
    "server_socket = socket.socket(socket.AF_INET, socket.SOCK_STREAM)\n",
    "\n",
    "server_socket.bind((host, port))\n",
    "\n",
    "server_socket.listen(5)\n",
    "\n",
    "print('Server listening on {}:{}'.format(host, port))\n",
    "\n",
    "while True:\n",
    "    client_socket, address = server_socket.accept()\n",
    "    print('Connection from {}:{}'.format(address[0], address[1]))\n",
    "\n",
    "    filename = client_socket.recv(1024).decode()\n",
    "    print('Received filename: {}'.format(filename))\n",
    "\n",
    "    try:\n",
    "        file = open(filename, 'rb')\n",
    "        data = file.read()\n",
    "        client_socket.sendall(data)\n",
    "\n",
    "        print('Sent {} bytes to {}:{}'.format(\n",
    "            len(data), address[0], address[1]))\n",
    "\n",
    "    except FileNotFoundError:\n",
    "        error_message = 'File not found'\n",
    "        client_socket.sendall(error_message.encode())\n",
    "\n",
    "    client_socket.close()\n"
   ]
  },
  {
   "attachments": {},
   "cell_type": "markdown",
   "metadata": {},
   "source": [
    "17) Write a program to create a Server using Stream sockets. Write a \n",
    "client program to connect to the server. Run multiple clients that \n",
    "request the server for text files. The server should service all clients \n",
    "concurrently."
   ]
  },
  {
   "cell_type": "code",
   "execution_count": 1,
   "metadata": {},
   "outputs": [
    {
     "name": "stdout",
     "output_type": "stream",
     "text": [
      "Server listening on localhost:5500\n",
      "Connection from 127.0.0.1:49798\n",
      "Recieved filename: ees.txt\n",
      "Sent 17 bytes to 127.0.0.1 49798\n",
      "Connection from 127.0.0.1:49802\n",
      "Recieved filename: example.txt\n",
      "Sent 49 bytes to 127.0.0.1 49802\n",
      "Connection from 127.0.0.1:49814\n",
      "Recieved filename: file.txt\n",
      "Sent 44 bytes to 127.0.0.1 49814\n"
     ]
    }
   ],
   "source": [
    "import socket as sk\n",
    "import threading\n",
    "\n",
    "host = 'localhost'\n",
    "port = 5500\n",
    "\n",
    "server = sk.socket()\n",
    "server.bind((host, port))\n",
    "\n",
    "server.listen(5)\n",
    "\n",
    "print(f\"Server listening on {host}:{port}\")\n",
    "\n",
    "\n",
    "def handle_client(client, address):\n",
    "    filename = client.recv(1024).decode()\n",
    "    print(f\"Recieved filename: {filename}\")\n",
    "\n",
    "    try:\n",
    "        with open(filename, \"rb\") as file:\n",
    "            data = file.read()\n",
    "            client.sendall(data)\n",
    "            print(f\"Sent {len(data)} bytes to {address[0]} {address[1]}\")\n",
    "    except FileNotFoundError:\n",
    "        error = \"File not found\"\n",
    "        client.sendall(error.encode())\n",
    "    client.close()\n",
    "\n",
    "\n",
    "while True:\n",
    "    client_socket, address = server.accept()\n",
    "    print(f'Connection from {address[0]}:{address[1]}')\n",
    "    client_thread = threading.Thread(\n",
    "        target=handle_client, args=(client_socket, address))\n",
    "    client_thread.start()\n"
   ]
  },
  {
   "attachments": {},
   "cell_type": "markdown",
   "metadata": {},
   "source": [
    "18) Write a program to create a Server using Datagram sockets. \n",
    "Write a client program that requests the server for a binary file. The \n",
    "server should service multiple clients concurrently and send the \n",
    "requested files in response. "
   ]
  },
  {
   "cell_type": "code",
   "execution_count": 1,
   "metadata": {},
   "outputs": [
    {
     "name": "stdout",
     "output_type": "stream",
     "text": [
      "Recieved filename: binary.bin\n",
      "Sent 31 bytes to 127.0.0.1 52646\n",
      "Recieved filename: binary.bin\n",
      "Sent 31 bytes to 127.0.0.1 64161\n",
      "Recieved filename: binary.bin\n",
      "Sent 31 bytes to 127.0.0.1 50202\n"
     ]
    }
   ],
   "source": [
    "import socket as sk\n",
    "import threading\n",
    "\n",
    "host = 'localhost'\n",
    "port = 5500\n",
    "\n",
    "server = sk.socket(sk.AF_INET, sk.SOCK_DGRAM)\n",
    "server.bind((host, port))\n",
    "\n",
    "\n",
    "def handle_client(message, address):\n",
    "    filename = message.decode()\n",
    "    print(f\"Recieved filename: {filename}\")\n",
    "\n",
    "    try:\n",
    "        with open(filename, \"rb\") as file:\n",
    "            data = file.read()\n",
    "            server.sendto(data, address)\n",
    "            print(f\"Sent {len(data)} bytes to {address[0]} {address[1]}\")\n",
    "    except FileNotFoundError:\n",
    "        error = \"File not found\"\n",
    "        server.sendto(error.encode(), address)\n",
    "\n",
    "\n",
    "while True:\n",
    "    message, address = server.recvfrom(1024)\n",
    "    client_thread = threading.Thread(\n",
    "        target=handle_client, args=(message, address))\n",
    "    client_thread.start()\n"
   ]
  }
 ],
 "metadata": {
  "kernelspec": {
   "display_name": "Python 3",
   "language": "python",
   "name": "python3"
  },
  "language_info": {
   "codemirror_mode": {
    "name": "ipython",
    "version": 3
   },
   "file_extension": ".py",
   "mimetype": "text/x-python",
   "name": "python",
   "nbconvert_exporter": "python",
   "pygments_lexer": "ipython3",
   "version": "3.11.1"
  },
  "orig_nbformat": 4,
  "vscode": {
   "interpreter": {
    "hash": "991d22cbb812259c435e888a485fda6e0050f8a01db60648101c5f9dc2bc009a"
   }
  }
 },
 "nbformat": 4,
 "nbformat_minor": 2
}
