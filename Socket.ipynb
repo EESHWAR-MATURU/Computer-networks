{
 "cells": [
  {
   "attachments": {},
   "cell_type": "markdown",
   "metadata": {},
   "source": [
    "1) TCP client for standard echo service on port no 7.\n",
    "\n"
   ]
  },
  {
   "cell_type": "code",
   "execution_count": 1,
   "metadata": {},
   "outputs": [
    {
     "name": "stdout",
     "output_type": "stream",
     "text": [
      "from server: hello\n"
     ]
    }
   ],
   "source": [
    "import socket\n",
    "s = socket.socket()\n",
    "message = input(\"Enter message to be echoed:\")\n",
    "s.connect(('127.0.0.1', 7))\n",
    "s.send(message.encode())\n",
    "print(\"from server:\", s.recv(2046).decode())\n",
    "s.close()\n"
   ]
  },
  {
   "attachments": {},
   "cell_type": "markdown",
   "metadata": {},
   "source": [
    "2) TCP client for standard daytime (system’s date/time) service on port no 13"
   ]
  },
  {
   "cell_type": "code",
   "execution_count": 2,
   "metadata": {},
   "outputs": [
    {
     "name": "stdout",
     "output_type": "stream",
     "text": [
      "b'8:28:23 AM 2/21/2023\\n'\n"
     ]
    }
   ],
   "source": [
    "import socket\n",
    "s = socket.socket()\n",
    "s.connect((\"127.0.0.1\", 13))\n",
    "t = s.recv(2046)\n",
    "print(t)\n"
   ]
  },
  {
   "attachments": {},
   "cell_type": "markdown",
   "metadata": {},
   "source": [
    "3) TCP client for standard QOTD (quotation of the day) service on port no 17."
   ]
  },
  {
   "cell_type": "code",
   "execution_count": 5,
   "metadata": {},
   "outputs": [
    {
     "name": "stdout",
     "output_type": "stream",
     "text": [
      "QOTD:  b'\"In Heaven an angel is nobody in particular.\" George Bernard Shaw (1856-1950)\\r\\x00'\n"
     ]
    }
   ],
   "source": [
    "import socket\n",
    "s = socket.socket()\n",
    "s.connect((\"127.0.0.1\", 17))\n",
    "t = s.recv(1024)\n",
    "print(\"QOTD: \", t)\n"
   ]
  },
  {
   "attachments": {},
   "cell_type": "markdown",
   "metadata": {},
   "source": [
    "4) Write a program to create a server using stream sockets. Write a simple\n",
    "client program to connect to the server. Send a simple text message “Hello”\n",
    "from the client to the server and the server to the client and close the\n",
    "connection. (TCP Echo server)"
   ]
  },
  {
   "cell_type": "code",
   "execution_count": 1,
   "metadata": {},
   "outputs": [
    {
     "name": "stdout",
     "output_type": "stream",
     "text": [
      "Server is listening on port 8000\n",
      "waiting for a connection...\n",
      "Accepted connection from ('127.0.0.1', 65261)\n",
      "Received message: hello\n",
      "Sent message: hello\n",
      "Connection closed\n",
      "waiting for a connection...\n"
     ]
    }
   ],
   "source": [
    "import socket\n",
    "HOST = ''   \n",
    "PORT = 8000  \n",
    "server_socket = socket.socket(socket.AF_INET, socket.SOCK_STREAM)\n",
    "server_socket.bind((HOST, PORT))\n",
    "server_socket.listen(1)\n",
    "print('Server is listening on port', PORT)\n",
    "while True:\n",
    "   \n",
    "    print('waiting for a connection...')\n",
    "    client_socket, client_address = server_socket.accept()\n",
    "    print('Accepted connection from', client_address)\n",
    "\n",
    "    \n",
    "    data = client_socket.recv(1024)\n",
    "    print('Received message:', data.decode())\n",
    "\n",
    "  \n",
    "    client_socket.sendall(data)\n",
    "    print('Sent message:', data.decode())\n",
    "\n",
    "  \n",
    "    client_socket.close()\n",
    "    print('Connection closed')\n"
   ]
  },
  {
   "attachments": {},
   "cell_type": "markdown",
   "metadata": {},
   "source": [
    "5) Write a TCP client-server program for upper case conversion of the text sent\n",
    "by the client program. "
   ]
  },
  {
   "cell_type": "code",
   "execution_count": 1,
   "metadata": {},
   "outputs": [
    {
     "name": "stdout",
     "output_type": "stream",
     "text": [
      "Server is listening on port 8000\n",
      "Waiting for a connection...\n",
      "Connected to ('127.0.0.1', 65510)\n",
      "Received message: eeshwar\n",
      "Sent message EESHWAR to ('127.0.0.1', 65510)\n",
      "Connection closed\n",
      "Waiting for a connection...\n"
     ]
    }
   ],
   "source": [
    "import socket\n",
    "\n",
    "HOST = ''   \n",
    "PORT = 8000  \n",
    "\n",
    "server_socket = socket.socket(socket.AF_INET, socket.SOCK_STREAM)\n",
    "\n",
    "server_socket.bind((HOST, PORT))\n",
    "\n",
    "\n",
    "server_socket.listen(1)\n",
    "print('Server is listening on port', PORT)\n",
    "\n",
    "while True:\n",
    "\n",
    "    print('Waiting for a connection...')\n",
    "    connection, client_address = server_socket.accept()\n",
    "    print('Connected to', client_address)\n",
    "\n",
    "    data = connection.recv(1024).decode().strip()\n",
    "    print('Received message:', data)\n",
    "    data = data.upper()\n",
    "    connection.sendall(data.encode())\n",
    "    print('Sent message', data, 'to', client_address)\n",
    "\n",
    "    connection.close()\n",
    "    print('Connection closed')\n"
   ]
  },
  {
   "attachments": {},
   "cell_type": "markdown",
   "metadata": {},
   "source": [
    "6) Write a program to create a chat server using stream sockets. Write a simple\n",
    "client program to connect to the server. Send multiple text messages from the\n",
    "client to the server and vice versa. When either party types “Bye”, close the\n",
    "connection."
   ]
  },
  {
   "cell_type": "code",
   "execution_count": 1,
   "metadata": {},
   "outputs": [
    {
     "name": "stdout",
     "output_type": "stream",
     "text": [
      "Server listening on 127.0.0.1:8000\n",
      "Connected with ('127.0.0.1', 56436)\n",
      "('127.0.0.1', 56436): hi\n",
      "('127.0.0.1', 56436): how are you\n",
      "('127.0.0.1', 56436): Bye\n",
      "Disconnected from ('127.0.0.1', 56436)\n"
     ]
    }
   ],
   "source": [
    "import socket\n",
    "import threading\n",
    "\n",
    "\n",
    "def handle_client(client_socket, client_address):\n",
    "    print(f\"Connected with {client_address}\")\n",
    "\n",
    "    while True:\n",
    "        data = client_socket.recv(1024).decode(\"utf-8\")\n",
    "\n",
    "        if not data:\n",
    "            break\n",
    "\n",
    "        print(f\"{client_address}: {data}\")\n",
    "\n",
    "        if data == \"Bye\":\n",
    "            break\n",
    "\n",
    "\n",
    "        client_socket.sendall(f\"You said: {data}\".encode(\"utf-8\"))\n",
    "\n",
    "    print(f\"Disconnected from {client_address}\")\n",
    "    client_socket.close()\n",
    "\n",
    "host = \"127.0.0.1\"\n",
    "port = 8000\n",
    "\n",
    "server_socket = socket.socket(socket.AF_INET, socket.SOCK_STREAM)\n",
    "server_socket.bind((host, port))\n",
    "server_socket.listen()\n",
    "\n",
    "print(f\"Server listening on {host}:{port}\")\n",
    "\n",
    "while True:\n",
    "    client_socket, client_address = server_socket.accept()\n",
    "\n",
    "    client_thread = threading.Thread(\n",
    "        target=handle_client, args=(client_socket, client_address))\n",
    "    client_thread.start()\n"
   ]
  },
  {
   "attachments": {},
   "cell_type": "markdown",
   "metadata": {},
   "source": [
    "7) Write a program to create a Server using Stream sockets. Write a\n",
    "client program to connect to the server. Send one string from client to\n",
    "server. Server will send the length of the same string in response to\n",
    "the client. Display the received length on client’s console. "
   ]
  },
  {
   "cell_type": "code",
   "execution_count": 1,
   "metadata": {},
   "outputs": [
    {
     "name": "stdout",
     "output_type": "stream",
     "text": [
      "Server is listening on port 8000\n",
      "Waiting for a connection...\n",
      "Accepted connection from ('127.0.0.1', 56534)\n",
      "Received message: white\n",
      "Sent length 5 to ('127.0.0.1', 56534)\n",
      "Connection closed by ('127.0.0.1', 56534)\n",
      "Waiting for a connection...\n"
     ]
    }
   ],
   "source": [
    "import socket\n",
    "\n",
    "HOST = ''    \n",
    "PORT = 8000  \n",
    "\n",
    "server_socket = socket.socket(socket.AF_INET, socket.SOCK_STREAM)\n",
    "\n",
    "server_socket.bind((HOST, PORT))\n",
    "\n",
    "server_socket.listen(1)\n",
    "print('Server is listening on port', PORT)\n",
    "\n",
    "while True:\n",
    "\n",
    "    print('Waiting for a connection...')\n",
    "    client_socket, client_address = server_socket.accept()\n",
    "    print('Accepted connection from', client_address)\n",
    "\n",
    "    data = client_socket.recv(1024)\n",
    "    message = data.decode().strip()\n",
    "    print('Received message:', message)\n",
    "\n",
    "    length = len(message)\n",
    "    client_socket.sendall(str(length).encode())\n",
    "    print('Sent length', length, 'to', client_address)\n",
    "\n",
    "    client_socket.close()\n",
    "    print('Connection closed by', client_address)\n"
   ]
  },
  {
   "attachments": {},
   "cell_type": "markdown",
   "metadata": {},
   "source": [
    "8) Write a program to create a Server using Stream sockets. Write a\n",
    "client program to connect to the server. Send one string from client to\n",
    "server. Server will send the same string in reverse in response to the\n",
    "client. Display the received string on client’s console. "
   ]
  },
  {
   "cell_type": "code",
   "execution_count": 1,
   "metadata": {},
   "outputs": [
    {
     "name": "stdout",
     "output_type": "stream",
     "text": [
      "Server is listening on port 8000\n",
      "Waiting for a connection...\n",
      "Accepted connection from ('127.0.0.1', 59845)\n",
      "Received message: eeshwar\n",
      "Sent reversed message rawhsee to ('127.0.0.1', 59845)\n",
      "Connection closed by ('127.0.0.1', 59845)\n",
      "Waiting for a connection...\n"
     ]
    }
   ],
   "source": [
    "import socket\n",
    "\n",
    "HOST = ''    \n",
    "PORT = 8000  \n",
    "\n",
    "server_socket = socket.socket(socket.AF_INET, socket.SOCK_STREAM)\n",
    "\n",
    "server_socket.bind((HOST, PORT))\n",
    "\n",
    "server_socket.listen(1)\n",
    "print('Server is listening on port', PORT)\n",
    "\n",
    "while True:\n",
    "\n",
    "    print('Waiting for a connection...')\n",
    "    client_socket, client_address = server_socket.accept()\n",
    "    print('Accepted connection from', client_address)\n",
    "\n",
    "    data = client_socket.recv(1024)\n",
    "    message = data.decode().strip()\n",
    "    print('Received message:', message)\n",
    "\n",
    "    reversed_message = message[::-1]\n",
    "    client_socket.sendall(reversed_message.encode())\n",
    "    print('Sent reversed message', reversed_message, 'to', client_address)\n",
    "\n",
    "    client_socket.close()\n",
    "    print('Connection closed by', client_address)\n"
   ]
  },
  {
   "attachments": {},
   "cell_type": "markdown",
   "metadata": {},
   "source": [
    "9) Write a program to create a server using Datagram sockets. Write\n",
    "a client program to send a simple text message “Hello” from the client\n",
    "to the server and the server to the client. (UDP Echo server). "
   ]
  },
  {
   "cell_type": "code",
   "execution_count": 1,
   "metadata": {},
   "outputs": [
    {
     "name": "stdout",
     "output_type": "stream",
     "text": [
      "Server is listening on port 8000\n",
      "Received message: Hello from ('127.0.0.1', 49675)\n",
      "Sent message Hello to ('127.0.0.1', 49675)\n"
     ]
    }
   ],
   "source": [
    "import socket\n",
    "\n",
    "HOST = ''    \n",
    "PORT = 8000 \n",
    "\n",
    "\n",
    "server_socket = socket.socket(socket.AF_INET, socket.SOCK_DGRAM)\n",
    "\n",
    "\n",
    "server_socket.bind((HOST, PORT))\n",
    "\n",
    "print('Server is listening on port', PORT)\n",
    "\n",
    "while True:\n",
    "\n",
    "    data, address = server_socket.recvfrom(1024)\n",
    "    message = data.decode().strip()\n",
    "    print('Received message:', message, 'from', address)\n",
    "\n",
    "    server_socket.sendto(data, address)\n",
    "    print('Sent message', message, 'to', address)\n"
   ]
  },
  {
   "attachments": {},
   "cell_type": "markdown",
   "metadata": {},
   "source": [
    "10) Write a UDP client-server program for upper case conversion of\n",
    "the text sent by the client program"
   ]
  },
  {
   "cell_type": "code",
   "execution_count": 1,
   "metadata": {},
   "outputs": [
    {
     "name": "stdout",
     "output_type": "stream",
     "text": [
      "Server is listening 8000\n",
      "Waiting...\n",
      "Received message: what are you doing from ('127.0.0.1', 55258)\n",
      "Sent message: WHAT ARE YOU DOING to ('127.0.0.1', 55258)\n",
      "Waiting...\n"
     ]
    }
   ],
   "source": [
    "import socket\n",
    "\n",
    "HOST = ''    \n",
    "PORT = 8000  \n",
    "server_socket = socket.socket(socket.AF_INET, socket.SOCK_DGRAM)\n",
    "server_socket.bind((HOST, PORT))\n",
    "\n",
    "print('Server is listening', PORT)\n",
    "\n",
    "while True:\n",
    "\n",
    "    print('Waiting...')\n",
    "    data, client_address = server_socket.recvfrom(1024)\n",
    "    print('Received message:', data.decode().strip(), 'from', client_address)\n",
    "\n",
    "    data = data.upper()\n",
    "\n",
    "    server_socket.sendto(data, client_address)\n",
    "    print('Sent message:', data.decode().strip(), 'to', client_address)\n"
   ]
  },
  {
   "attachments": {},
   "cell_type": "markdown",
   "metadata": {},
   "source": [
    "11) Write a program to create a Server using Datagram sockets.\n",
    "Write a client program to connect to the server. Send one string from\n",
    "client to server. Server will send the length of the same string in\n",
    "response to the client. Display the received length on client’s console."
   ]
  },
  {
   "cell_type": "code",
   "execution_count": 1,
   "metadata": {},
   "outputs": [
    {
     "name": "stdout",
     "output_type": "stream",
     "text": [
      "Server is listening on port 8000\n",
      "Waiting for a message...\n",
      "Received message: whats up from ('127.0.0.1', 50001)\n",
      "Sent length 8 to ('127.0.0.1', 50001)\n",
      "Waiting for a message...\n"
     ]
    }
   ],
   "source": [
    "import socket\n",
    "\n",
    "HOST = ''   \n",
    "PORT = 8000 \n",
    "\n",
    "server_socket = socket.socket(socket.AF_INET, socket.SOCK_DGRAM)\n",
    "server_socket.bind((HOST, PORT))\n",
    "\n",
    "print('Server is listening on port', PORT)\n",
    "\n",
    "while True:\n",
    "\n",
    "    print('Waiting for a message...')\n",
    "    data, client_address = server_socket.recvfrom(1024)\n",
    "    print('Received message:', data.decode().strip(), 'from', client_address)\n",
    "    length = len(data)\n",
    "    server_socket.sendto(str(length).encode(), client_address)\n",
    "    print('Sent length', length, 'to', client_address)\n"
   ]
  },
  {
   "attachments": {},
   "cell_type": "markdown",
   "metadata": {},
   "source": [
    "12) Write a program to create a Server using Datagram sockets.\n",
    "Write a client program to connect to the server. Send one string from\n",
    "client to server. Server will send the same string in reverse in\n",
    "response to the client. Display the received string on client’s console. "
   ]
  },
  {
   "cell_type": "code",
   "execution_count": 1,
   "metadata": {},
   "outputs": [
    {
     "name": "stdout",
     "output_type": "stream",
     "text": [
      "Server is listening on port 8000\n",
      "Waiting for a message...\n",
      "Received message: oh my god from ('127.0.0.1', 51025)\n",
      "Sent message dog ym ho to ('127.0.0.1', 51025)\n",
      "Waiting for a message...\n"
     ]
    }
   ],
   "source": [
    "import socket\n",
    "\n",
    "HOST = ''    \n",
    "PORT = 8000  \n",
    "\n",
    "server_socket = socket.socket(socket.AF_INET, socket.SOCK_DGRAM)\n",
    "\n",
    "\n",
    "server_socket.bind((HOST, PORT))\n",
    "\n",
    "print('Server is listening on port', PORT)\n",
    "\n",
    "while True:\n",
    "\n",
    "    print('Waiting for a message...')\n",
    "    data, client_address = server_socket.recvfrom(1024)\n",
    "    print('Received message:', data.decode().strip(), 'from', client_address)\n",
    "\n",
    "\n",
    "    reversed_data = data.decode().strip()[::-1]\n",
    "\n",
    "    server_socket.sendto(reversed_data.encode(), client_address)\n",
    "    print('Sent message', reversed_data, 'to', client_address)\n"
   ]
  }
 ],
 "metadata": {
  "kernelspec": {
   "display_name": "Python 3",
   "language": "python",
   "name": "python3"
  },
  "language_info": {
   "codemirror_mode": {
    "name": "ipython",
    "version": 3
   },
   "file_extension": ".py",
   "mimetype": "text/x-python",
   "name": "python",
   "nbconvert_exporter": "python",
   "pygments_lexer": "ipython3",
   "version": "3.11.1"
  },
  "orig_nbformat": 4,
  "vscode": {
   "interpreter": {
    "hash": "2e993bf83ec523d09849f09350ed08db7b166d06891336a8ff089d7da4a5f54c"
   }
  }
 },
 "nbformat": 4,
 "nbformat_minor": 2
}
