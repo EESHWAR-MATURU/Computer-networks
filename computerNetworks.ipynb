{
 "cells": [
  {
   "attachments": {},
   "cell_type": "markdown",
   "metadata": {},
   "source": [
    " TCP client for standard daytime (system’s date/time) service on port no 13."
   ]
  },
  {
   "cell_type": "code",
   "execution_count": 1,
   "metadata": {},
   "outputs": [
    {
     "name": "stdout",
     "output_type": "stream",
     "text": [
      "b'11:28:28 AM 3/6/2023\\n'\n"
     ]
    }
   ],
   "source": [
    "import socket\n",
    "s=socket.socket()\n",
    "s.connect((\"127.0.0.1\",13))\n",
    "t=s.recv(2046)\n",
    "print(t)\n"
   ]
  },
  {
   "attachments": {},
   "cell_type": "markdown",
   "metadata": {},
   "source": [
    "TCP client for standard QOTD (quotation of the day) service on port no 17."
   ]
  },
  {
   "cell_type": "code",
   "execution_count": 2,
   "metadata": {},
   "outputs": [
    {
     "name": "stdout",
     "output_type": "stream",
     "text": [
      "QOTD:  b'\"When a stupid man is doing something he is ashamed of, he always declares\\r\\n that it is his duty.\" George Bernard Shaw (1856-1950)\\r\\x00'\n"
     ]
    }
   ],
   "source": [
    "import socket\n",
    "s=socket.socket()\n",
    "s.connect((\"127.0.0.1\",17))\n",
    "t=s.recv(1024)\n",
    "print(\"QOTD: \",t)\n"
   ]
  },
  {
   "attachments": {},
   "cell_type": "markdown",
   "metadata": {},
   "source": [
    " TCP client for standard echo service on port no 7"
   ]
  },
  {
   "cell_type": "code",
   "execution_count": 3,
   "metadata": {},
   "outputs": [],
   "source": [
    "import socket \n",
    "s=socket.socket()\n",
    "message=input(\"Enter message to be echoed:\")\n",
    "s.connect(('127.0.0.1',7))\n",
    "s.send(message.encode())\n",
    "print(\"from server:\",s.recv(2046).decode())\n",
    "s.close()\n"
   ]
  },
  {
   "attachments": {},
   "cell_type": "markdown",
   "metadata": {},
   "source": [
    "Write a TCP client-server program for upper case conversion of the text sent \n",
    "by the client program. "
   ]
  },
  {
   "cell_type": "code",
   "execution_count": null,
   "metadata": {},
   "outputs": [
    {
     "name": "stdout",
     "output_type": "stream",
     "text": [
      "lowercase message: data communication\n",
      "UPPERcase message: DATA COMMUNICATION\n"
     ]
    }
   ],
   "source": [
    "import socket\n",
    "s=socket.socket()\n",
    "message=input(\"Enter lowercase message:\")\n",
    "print(\"lowercase message:\",message)\n",
    "s.connect(('127.0.0.1',7))\n",
    "s.send(message.encode())\n",
    "t=s.recv(2046).decode()\n",
    "f=t.upper()\n",
    "print(\"UPPERcase message:\",f)\n",
    "\n",
    "\n",
    "s.close()"
   ]
  },
  {
   "attachments": {},
   "cell_type": "markdown",
   "metadata": {},
   "source": [
    "Write a program to create a server using stream sockets. Write a simple \n",
    "client program to connect to the server. Send a simple text message “Hello” \n",
    "from the client to the server and the server to the client and close the \n",
    "connection. (TCP Echo server). "
   ]
  },
  {
   "cell_type": "code",
   "execution_count": null,
   "metadata": {},
   "outputs": [
    {
     "name": "stdout",
     "output_type": "stream",
     "text": [
      "Server : 4545\n",
      "Connection from ('127.0.0.1', 52487) has been established.\n"
     ]
    }
   ],
   "source": [
    "import socket\n",
    "HOST = ''    \n",
    "PORT = 4545  \n",
    "serverSock = socket.socket(socket.AF_INET, socket.SOCK_STREAM)\n",
    "serverSock.bind((HOST, PORT))\n",
    "serverSock.listen()\n",
    "print(f\"Server : {PORT}\")\n",
    "\n",
    "while True:\n",
    "    cliSock, addr = serverSock.accept()\n",
    "    print(f\"Connection from {addr} has been established.\")\n",
    "    data = cliSock.recv(1024)\n",
    "    cliSock.sendall(data)\n",
    "    cliSock.close()\n"
   ]
  },
  {
   "attachments": {},
   "cell_type": "markdown",
   "metadata": {},
   "source": [
    "Write a program to create a Server using Stream sockets. Write a\n",
    "client program to connect to the server. Send one string from client to\n",
    "server. Server will send the length of the same string in response to\n",
    "the client. Display the received length on client’s console. \n"
   ]
  },
  {
   "cell_type": "code",
   "execution_count": null,
   "metadata": {},
   "outputs": [
    {
     "name": "stdout",
     "output_type": "stream",
     "text": [
      "Server is listening on port 6712\n",
      "Connection from ('127.0.0.1', 51899) has been established.\n"
     ]
    }
   ],
   "source": [
    "import socket\n",
    "\n",
    "HOST = ''    \n",
    "PORT = 6712  \n",
    "server_socket = socket.socket(socket.AF_INET, socket.SOCK_STREAM)\n",
    "\n",
    "server_socket.bind((HOST, PORT))\n",
    "\n",
    "server_socket.listen()\n",
    "\n",
    "print(f\"Server is listening on port {PORT}\")\n",
    "\n",
    "while True:\n",
    "    client_socket, addr = server_socket.accept()\n",
    "    print(f\"Connection from {addr} has been established.\")\n",
    "    data = client_socket.recv(1024)\n",
    "    length = str(len(data)).encode()\n",
    "    client_socket.sendall(length)\n",
    "    client_socket.close()\n"
   ]
  },
  {
   "attachments": {},
   "cell_type": "markdown",
   "metadata": {},
   "source": [
    " Write a program to create a chat server using stream sockets. Write a simple \n",
    "client program to connect to the server. Send multiple text messages from the \n",
    "client to the server and vice versa. When either party types “Bye”, close the \n",
    "connection."
   ]
  },
  {
   "cell_type": "code",
   "execution_count": 1,
   "metadata": {},
   "outputs": [
    {
     "name": "stdout",
     "output_type": "stream",
     "text": [
      "Server is listening on port 8193\n",
      "Connection from ('127.0.0.1', 63495) has been established.\n",
      "Received from ('127.0.0.1', 63495): adf\n",
      "Received from ('127.0.0.1', 63495): asdf\n",
      "Received from ('127.0.0.1', 63495): asdf\n",
      "Received from ('127.0.0.1', 63495): adsf\n",
      "Connection from ('127.0.0.1', 63495) has been closed.\n"
     ]
    }
   ],
   "source": [
    "import socket\n",
    "\n",
    "HOST = ''   \n",
    "PORT = 8193  \n",
    "\n",
    "serSock = socket.socket(socket.AF_INET, socket.SOCK_STREAM)\n",
    "serSock.bind((HOST, PORT))\n",
    "\n",
    "serSock.listen()\n",
    "\n",
    "print(f\"Server is listening on port {PORT}\")\n",
    "\n",
    "while True:\n",
    "    cliSock, addr = serSock.accept()\n",
    "\n",
    "    print(f\"Connection from {addr} has been established.\")\n",
    "\n",
    "    welcome_message = \"Welcome to the chat room!\"\n",
    "    cliSock.sendall(welcome_message.encode())\n",
    "\n",
    "    while True:\n",
    "        data = cliSock.recv(1024)\n",
    "\n",
    "        if data.decode().lower() == \"bye\":\n",
    "            print(f\"Connection from {addr} has been closed.\")\n",
    "            cliSock.close()\n",
    "            break\n",
    "\n",
    "        print(f\"Received from {addr}: {data.decode()}\")\n",
    "\n",
    "        cliSock.sendall(data)\n"
   ]
  },
  {
   "attachments": {},
   "cell_type": "markdown",
   "metadata": {},
   "source": [
    "Write a program to create a Server using Stream sockets. Write a \n",
    "client program to connect to the server. Send one string from client to \n",
    "server. Server will send the same string in reverse in response to the \n",
    "client. Display the received string on client’s console."
   ]
  },
  {
   "cell_type": "code",
   "execution_count": null,
   "metadata": {},
   "outputs": [
    {
     "name": "stdout",
     "output_type": "stream",
     "text": [
      "Server is listening on port: 9112\n",
      "Connection from ('127.0.0.1', 52441) has been established.\n",
      "Sent to ('127.0.0.1', 52441): noitacinummoc ataD\n"
     ]
    }
   ],
   "source": [
    "import socket\n",
    "\n",
    "HOST = ''    \n",
    "PORT = 9112 \n",
    "serSock = socket.socket(socket.AF_INET, socket.SOCK_STREAM)\n",
    "serSock.bind((HOST, PORT))\n",
    "serSock.listen()\n",
    "\n",
    "print(f\"Server is listening on port: {PORT}\")\n",
    "\n",
    "while True:\n",
    "    cliSock, addr = serSock.accept()\n",
    "\n",
    "    print(f\"Connection from {addr} has been established.\")\n",
    "    data = cliSock.recv(1024)\n",
    "    response = data.decode()[::-1]\n",
    "    cliSock.sendall(response.encode())\n",
    "    print(f\"Sent to {addr}: {response}\")\n",
    "    cliSock.close()\n"
   ]
  },
  {
   "attachments": {},
   "cell_type": "markdown",
   "metadata": {},
   "source": [
    "Write a program to create a server using Datagram sockets. Write \n",
    "a client program to send a simple text message “Hello” from the client \n",
    "to the server and the server to the client. (UDP Echo server). \n"
   ]
  },
  {
   "cell_type": "code",
   "execution_count": null,
   "metadata": {},
   "outputs": [
    {
     "name": "stdout",
     "output_type": "stream",
     "text": [
      "Server : 7231\n",
      "Sent to ('127.0.0.1', 58361): Hello\n"
     ]
    }
   ],
   "source": [
    "import socket\n",
    "\n",
    "HOST = ''    \n",
    "PORT = 7231 \n",
    "\n",
    "serSock = socket.socket(socket.AF_INET, socket.SOCK_DGRAM)\n",
    "serSock.bind((HOST, PORT))\n",
    "print(f\"Server : {PORT}\")\n",
    "\n",
    "while True:\n",
    "    data, addr = serSock.recvfrom(1024)\n",
    "    serSock.sendto(data, addr)\n",
    "    print(f\"Sent to {addr}: {data.decode()}\")\n"
   ]
  },
  {
   "attachments": {},
   "cell_type": "markdown",
   "metadata": {},
   "source": [
    "Write a UDP client-server program for upper case conversion of \n",
    "the text sent by the client program. \n"
   ]
  },
  {
   "cell_type": "code",
   "execution_count": null,
   "metadata": {},
   "outputs": [
    {
     "name": "stdout",
     "output_type": "stream",
     "text": [
      "Server : 2398\n",
      "Sent to ('127.0.0.1', 59071): CLIENT SERVER\n"
     ]
    }
   ],
   "source": [
    "import socket\n",
    "\n",
    "HOST = ''   \n",
    "PORT = 2398 \n",
    "serSock = socket.socket(socket.AF_INET, socket.SOCK_DGRAM)\n",
    "serSock.bind((HOST, PORT))\n",
    "\n",
    "print(f\"Server : {PORT}\")\n",
    "\n",
    "while True:\n",
    "    data, addr = serSock.recvfrom(1024)\n",
    "    response = data.decode().upper()\n",
    "    serSock.sendto(response.encode(), addr)\n",
    "    print(f\"Sent to {addr}: {response}\")\n"
   ]
  },
  {
   "attachments": {},
   "cell_type": "markdown",
   "metadata": {},
   "source": [
    "Write a program to create a Server using Datagram sockets. \n",
    "Write a client program to connect to the server. Send one string from \n",
    "client to server. Server will send the length of the same string in \n",
    "response to the client. Display the received length on client’s console. "
   ]
  },
  {
   "cell_type": "code",
   "execution_count": null,
   "metadata": {},
   "outputs": [
    {
     "name": "stdout",
     "output_type": "stream",
     "text": [
      "Server is listening on port 8345\n",
      "Sent to ('127.0.0.1', 51796): 13\n"
     ]
    }
   ],
   "source": [
    "import socket\n",
    "\n",
    "HOST = ''  \n",
    "PORT = 8345  \n",
    "serSock = socket.socket(socket.AF_INET, socket.SOCK_DGRAM)\n",
    "serSock.bind((HOST, PORT))\n",
    "\n",
    "print(f\"Server is listening on port {PORT}\")\n",
    "\n",
    "while True:\n",
    "    data, addr = serSock.recvfrom(1024)\n",
    "    response = str(len(data.decode()))\n",
    "    serSock.sendto(response.encode(), addr)\n",
    "    print(f\"Sent to {addr}: {response}\")\n"
   ]
  },
  {
   "attachments": {},
   "cell_type": "markdown",
   "metadata": {},
   "source": [
    " Write a program to create a Server using Datagram sockets. \n",
    "Write a client program to connect to the server. Send one string from \n",
    "client to server. Server will send the same string in reverse in \n",
    "response to the client. Display the received string on client’s console"
   ]
  },
  {
   "cell_type": "code",
   "execution_count": null,
   "metadata": {},
   "outputs": [
    {
     "name": "stdout",
     "output_type": "stream",
     "text": [
      "Server : 6712\n",
      "Sent to ('127.0.0.1', 50030): metsyS retupmoC\n"
     ]
    }
   ],
   "source": [
    "import socket\n",
    "\n",
    "HOST = ''    \n",
    "PORT = 6712\n",
    "serSock = socket.socket(socket.AF_INET, socket.SOCK_DGRAM)\n",
    "serSock.bind((HOST, PORT))\n",
    "print(f\"Server : {PORT}\")\n",
    "while True:\n",
    "    data, addr = serSock.recvfrom(1024)\n",
    "    response = data.decode()[::-1]\n",
    "    serSock.sendto(response.encode(), addr)\n",
    "    print(f\"Sent to {addr}: {response}\")\n"
   ]
  },
  {
   "attachments": {},
   "cell_type": "markdown",
   "metadata": {},
   "source": [
    "TCP-client\n",
    "\n",
    "create a socket\n",
    "setup connection\n",
    "connect\n",
    "send/receive\n",
    "close connection\n"
   ]
  },
  {
   "cell_type": "code",
   "execution_count": 1,
   "metadata": {},
   "outputs": [],
   "source": [
    "import socket \n",
    "s=socket.socket(socket.AF_INET,socket.SOCK_STREAM)\n",
    "s.bind(('127.0.0.1',7233))\n",
    "s.listen()\n",
    "while True:\n",
    "    clis,addr =s.accept()\n",
    "    data=clis.recv(1024)\n",
    "    clis.sendall(data)\n",
    "    clis.close()\n"
   ]
  },
  {
   "cell_type": "code",
   "execution_count": null,
   "metadata": {},
   "outputs": [],
   "source": []
  }
 ],
 "metadata": {
  "kernelspec": {
   "display_name": "Python 3",
   "language": "python",
   "name": "python3"
  },
  "language_info": {
   "codemirror_mode": {
    "name": "ipython",
    "version": 3
   },
   "file_extension": ".py",
   "mimetype": "text/x-python",
   "name": "python",
   "nbconvert_exporter": "python",
   "pygments_lexer": "ipython3",
   "version": "3.10.5"
  },
  "orig_nbformat": 4,
  "vscode": {
   "interpreter": {
    "hash": "77e3073e874291b649ea1ae468f40e14661899c710b9f0367d464a06647e4f0e"
   }
  }
 },
 "nbformat": 4,
 "nbformat_minor": 2
}
